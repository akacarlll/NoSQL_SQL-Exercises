{
 "cells": [
  {
   "cell_type": "code",
   "execution_count": 2,
   "id": "077a9b28",
   "metadata": {},
   "outputs": [],
   "source": [
    "import py2neo\n",
    "import tqdm\n",
    "import numpy as np\n",
    "import time\n",
    "import pandas as pd"
   ]
  },
  {
   "cell_type": "markdown",
   "id": "692eedc1",
   "metadata": {},
   "source": [
    "1. You will continue to work on the MCU network for a while. \n",
    "    Who are the 10 fastest in the MCU ? Are they related to each other ?"
   ]
  },
  {
   "cell_type": "code",
   "execution_count": 7,
   "id": "fb0016b8",
   "metadata": {},
   "outputs": [
    {
     "name": "stdout",
     "output_type": "stream",
     "text": [
      "Node('Superhero', Combat=56, Durability=84, Intelligence=75, Power=100, Speed=100, Strength=67, Total=482, id_=1009184, name='Black Bolt')\n",
      "Node('Superhero', Combat=85, Durability=110, Intelligence=88, Power=100, Speed=100, Strength=85, Total=568, id_=1010764, name='Stardust')\n",
      "Node('Superhero', Combat=56, Durability=60, Intelligence=63, Power=57, Speed=100, Strength=28, Total=364, id_=1009524, name='Quicksilver')\n",
      "Node('Superhero', Combat=25, Durability=100, Intelligence=38, Power=100, Speed=100, Strength=60, Total=423, id_=1009477, name='Nova')\n",
      "Node('Superhero', Combat=85, Durability=100, Intelligence=69, Power=100, Speed=92, Strength=100, Total=546, id_=1009664, name='Thor')\n",
      "Node('Superhero', Combat=32, Durability=101, Intelligence=63, Power=100, Speed=84, Strength=100, Total=480, id_=1009592, name='Silver Surfer')\n",
      "Node('Superhero', Combat=70, Durability=100, Intelligence=100, Power=100, Speed=83, Strength=100, Total=553, id_=1009312, name='Galactus')\n",
      "Node('Superhero', Combat=80, Durability=100, Intelligence=88, Power=100, Speed=83, Strength=95, Total=546, id_=1009280, name='Dormammu')\n",
      "Node('Superhero', Combat=28, Durability=99, Intelligence=88, Power=71, Speed=83, Strength=80, Total=449, id_=1011060, name='Ego')\n",
      "Node('Superhero', Combat=70, Durability=56, Intelligence=50, Power=70, Speed=83, Strength=18, Total=347, id_=1009476, name='Northstar')\n"
     ]
    }
   ],
   "source": [
    "query = \"\"\"MATCH (a:Superhero)\n",
    "WHERE exists(a.Speed)\n",
    "RETURN a\n",
    "ORDER BY a.Speed DESC\n",
    "LIMIT 10\"\"\"\n",
    "data = graph.run(query)\n",
    "for _ in data:\n",
    "    print(_)\n"
   ]
  },
  {
   "cell_type": "code",
   "execution_count": 25,
   "id": "c2fea9c1",
   "metadata": {},
   "outputs": [],
   "source": [
    "superheroes = ['Black Bolt', 'Stardust', 'Quicksilver', 'Nova', 'Thor', 'Silver Surfer', 'Galactus', 'Dormammu', 'Ego', 'Northstar']\n",
    "heros_n = ', '.join([f'\"{hero}\"' for hero in superheroes])"
   ]
  },
  {
   "cell_type": "code",
   "execution_count": 28,
   "id": "becdd95c",
   "metadata": {},
   "outputs": [
    {
     "name": "stdout",
     "output_type": "stream",
     "text": [
      "       superhero  num_relations\n",
      "0       Galactus              9\n",
      "1  Silver Surfer              8\n",
      "2           Thor              8\n",
      "3    Quicksilver              8\n",
      "4       Dormammu              4\n",
      "5            Ego              5\n",
      "6           Nova              6\n",
      "7     Black Bolt              5\n",
      "8      Northstar              3\n",
      "9       Stardust              2\n"
     ]
    }
   ],
   "source": [
    "# Requête Cypher pour compter le nombre de relations pour chaque super-héros spécifique\n",
    "query = f\"\"\"MATCH (a:Superhero)-[r:RELATION]-(b:Superhero) \n",
    "WHERE a.name IN [{heros_n}] AND b.name IN [{heros_n}] \n",
    "RETURN a.name AS superhero, count(r) AS num_relations\"\"\"\n",
    "\n",
    "# Exécutez la requête et convertissez les résultats en DataFrame\n",
    "data = graph.run(query).to_data_frame()\n",
    "\n",
    "# Afficher le DataFrame\n",
    "print(data)\n"
   ]
  },
  {
   "cell_type": "code",
   "execution_count": 8,
   "id": "5b7dd827",
   "metadata": {},
   "outputs": [
    {
     "name": "stdout",
     "output_type": "stream",
     "text": [
      "'Ego'\t'Galactus'\n",
      "'Dormammu'\t'Galactus'\n",
      "'Black Bolt'\t'Galactus'\n",
      "'Northstar'\t'Galactus'\n",
      "'Nova'\t'Galactus'\n",
      "'Stardust'\t'Galactus'\n",
      "'Silver Surfer'\t'Galactus'\n",
      "'Quicksilver'\t'Galactus'\n",
      "'Thor'\t'Galactus'\n",
      "'Ego'\t'Silver Surfer'\n",
      "'Nova'\t'Silver Surfer'\n",
      "'Quicksilver'\t'Silver Surfer'\n",
      "'Black Bolt'\t'Silver Surfer'\n",
      "'Galactus'\t'Silver Surfer'\n",
      "'Dormammu'\t'Silver Surfer'\n",
      "'Stardust'\t'Silver Surfer'\n",
      "'Thor'\t'Silver Surfer'\n",
      "'Northstar'\t'Thor'\n",
      "'Ego'\t'Thor'\n",
      "'Silver Surfer'\t'Thor'\n",
      "'Nova'\t'Thor'\n",
      "'Black Bolt'\t'Thor'\n",
      "'Galactus'\t'Thor'\n",
      "'Quicksilver'\t'Thor'\n",
      "'Dormammu'\t'Thor'\n",
      "'Dormammu'\t'Quicksilver'\n",
      "'Ego'\t'Quicksilver'\n",
      "'Nova'\t'Quicksilver'\n",
      "'Galactus'\t'Quicksilver'\n",
      "'Black Bolt'\t'Quicksilver'\n",
      "'Northstar'\t'Quicksilver'\n",
      "'Silver Surfer'\t'Quicksilver'\n",
      "'Thor'\t'Quicksilver'\n",
      "'Quicksilver'\t'Dormammu'\n",
      "'Galactus'\t'Dormammu'\n",
      "'Thor'\t'Dormammu'\n",
      "'Silver Surfer'\t'Dormammu'\n",
      "'Galactus'\t'Ego'\n",
      "'Thor'\t'Ego'\n",
      "'Nova'\t'Ego'\n",
      "'Silver Surfer'\t'Ego'\n",
      "'Quicksilver'\t'Ego'\n",
      "'Black Bolt'\t'Nova'\n",
      "'Ego'\t'Nova'\n",
      "'Galactus'\t'Nova'\n",
      "'Silver Surfer'\t'Nova'\n",
      "'Quicksilver'\t'Nova'\n",
      "'Thor'\t'Nova'\n",
      "'Nova'\t'Black Bolt'\n",
      "'Galactus'\t'Black Bolt'\n",
      "'Quicksilver'\t'Black Bolt'\n",
      "'Thor'\t'Black Bolt'\n",
      "'Silver Surfer'\t'Black Bolt'\n",
      "'Galactus'\t'Northstar'\n",
      "'Thor'\t'Northstar'\n",
      "'Quicksilver'\t'Northstar'\n",
      "'Silver Surfer'\t'Stardust'\n",
      "'Galactus'\t'Stardust'\n"
     ]
    }
   ],
   "source": [
    "query = \"\"\"MATCH (n:Superhero)-[r]-(m:Superhero)\n",
    "WHERE n.name IN ['Black Bolt', 'Stardust', 'Quicksilver', 'Nova', 'Thor', 'Silver Surfer', 'Galactus', 'Dormammu', 'Ego', 'Northstar']\n",
    "AND m.name IN ['Black Bolt', 'Stardust', 'Quicksilver', 'Nova', 'Thor', 'Silver Surfer', 'Galactus', 'Dormammu', 'Ego', 'Northstar']\n",
    "RETURN n.name, m.name\"\"\"\n",
    "\n",
    "results = graph.run(query)\n",
    "\n",
    "for record in results:\n",
    "    print(record)"
   ]
  },
  {
   "cell_type": "markdown",
   "id": "603e3361",
   "metadata": {},
   "source": [
    "2. How many have collaborated atleast more than 10 times with another superhero?"
   ]
  },
  {
   "cell_type": "code",
   "execution_count": 5,
   "id": "3afc5374",
   "metadata": {},
   "outputs": [
    {
     "name": "stdout",
     "output_type": "stream",
     "text": [
      "Le nombre de héros qui ont collaboré plus de 10 fois avec d'autres héros est de 528 \n"
     ]
    }
   ],
   "source": [
    "import py2neo\n",
    "graph = py2neo.Graph(\"bolt://localhost:7687\", auth=(\"neo4j\", \"password_tuts\"), name=\"mcu\")\n",
    "\n",
    "query = \"\"\"MATCH (a:Superhero)-[r:RELATION]-(b:Superhero)\n",
    "WHERE r.n_collab > 10\n",
    "WITH a\n",
    "MATCH (a)-[r:RELATION]-(b:Superhero)\n",
    "WHERE r.n_collab >= 10\n",
    "RETURN COUNT(DISTINCT a)\"\"\"\n",
    "\n",
    "result = graph.run(query).evaluate()\n",
    "print(f\"Le nombre de héros qui ont collaboré plus de 10 fois avec d'autres héros est de {result} \")"
   ]
  },
  {
   "cell_type": "markdown",
   "id": "2e7a1ccd",
   "metadata": {},
   "source": [
    "3. Did the weakest of the MCU collaborated with the strongest ?"
   ]
  },
  {
   "cell_type": "code",
   "execution_count": 10,
   "id": "906945ad",
   "metadata": {},
   "outputs": [
    {
     "name": "stdout",
     "output_type": "stream",
     "text": [
      "Le héros le plus fort est Stardust,\n",
      "tandis que le plus faible est Lady Deathstrike\n"
     ]
    }
   ],
   "source": [
    "import py2neo\n",
    "graph = py2neo.Graph(\"bolt://localhost:7687\", auth=(\"neo4j\", \"password_tuts\"), name=\"mcu\")\n",
    "\n",
    "# Le plus faible\n",
    "query_weakest = \"\"\"MATCH (n:Superhero)\n",
    "WHERE (n.Total) IS NOT NULL\n",
    "RETURN n.name\n",
    "ORDER BY n.Total\n",
    "LIMIT 1\"\"\"\n",
    "result_weakest = graph.run(query_weakest).evaluate()\n",
    "\n",
    "# Le plus fort\n",
    "query_strongest = \"\"\"MATCH (n:Superhero)\n",
    "WHERE (n.Total) IS NOT NULL\n",
    "RETURN n.name\n",
    "ORDER BY n.Total DESC\n",
    "LIMIT 1\"\"\"\n",
    "result_strongest = graph.run(query_strongest).evaluate()\n",
    "\n",
    "print(f\"Le héros le plus fort est {result_strongest},\\ntandis que le plus faible est {result_weakest}\")"
   ]
  },
  {
   "cell_type": "code",
   "execution_count": 11,
   "id": "bd16b73d",
   "metadata": {},
   "outputs": [
    {
     "name": "stdout",
     "output_type": "stream",
     "text": [
      "Lady Deathstrike n'a pas collaboré avec Stardust\n"
     ]
    }
   ],
   "source": [
    "# Chercher une éventuelle collaboration\n",
    "query_relation = f\"\"\"MATCH (a:Superhero {{name: \"{result_weakest}\"}})-[r:RELATION]-(b:Superhero {{name: \"{result_strongest}\"}})\n",
    "RETURN COUNT(r)\"\"\"\n",
    "result_relation = graph.run(query_relation).evaluate()\n",
    "\n",
    "if result_relation > 0:\n",
    "    print(f\"{result_weakest} a collaboré avec {result_strongest}\")\n",
    "else:\n",
    "    print(f\"{result_weakest} n'a pas collaboré avec {result_strongest}\")"
   ]
  },
  {
   "cell_type": "markdown",
   "id": "b615cfc7",
   "metadata": {},
   "source": [
    "4. Give a stats that interests you !\n",
    "If Thanos was able to snap fingers, is it because those who can beat him\n",
    "don't appear in enough comics ?"
   ]
  },
  {
   "cell_type": "code",
   "execution_count": 41,
   "id": "580bb0bd",
   "metadata": {},
   "outputs": [
    {
     "name": "stdout",
     "output_type": "stream",
     "text": [
      "'Stardust'\t568\n",
      "'Galactus'\t553\n",
      "'Dormammu'\t546\n",
      "'Thor'\t546\n",
      "'Jean Grey'\t517\n",
      "'Jean Grey'\t517\n",
      "'Onslaught'\t505\n",
      "'Apocalypse'\t493\n",
      "'Iron Man'\t492\n",
      "'Thanos'\t485\n"
     ]
    }
   ],
   "source": [
    "graph = py2neo.Graph(\"bolt://localhost:7687\", auth=(\"neo4j\", \"password_tuts\"), name=\"mcu\")\n",
    "\n",
    "query = \"\"\"MATCH (n:Superhero)\n",
    "WHERE (n.Total) IS NOT NULL\n",
    "RETURN n.name, n.Total\n",
    "ORDER BY n.Total DESC\n",
    "LIMIT 10\"\"\"\n",
    "\n",
    "results = graph.run(query)\n",
    "\n",
    "for _ in results:\n",
    "    print(_)"
   ]
  },
  {
   "cell_type": "code",
   "execution_count": 42,
   "id": "12196df8",
   "metadata": {},
   "outputs": [
    {
     "name": "stdout",
     "output_type": "stream",
     "text": [
      "    superhero  num_relations\n",
      "0    Iron Man              8\n",
      "1    Galactus              7\n",
      "2   Jean Grey             11\n",
      "3        Thor              8\n",
      "4      Thanos              6\n",
      "5    Dormammu              4\n",
      "6   Onslaught              6\n",
      "7  Apocalypse              4\n",
      "8    Stardust              2\n"
     ]
    }
   ],
   "source": [
    "import pandas as pd\n",
    "\n",
    "# Liste des super-héros spécifiques\n",
    "superheroes = [\"Stardust\", \"Galactus\", \"Dormammu\", \"Thor\", \"Jean Grey\", \"Onslaught\", \"Apocalypse\", \"Iron Man\", \"Thanos\"]\n",
    "\n",
    "# Construire une chaîne de caractères pour filtrer les super-héros spécifiques dans la requête Cypher\n",
    "heroes_filter = ', '.join([f'\"{hero}\"' for hero in superheroes])\n",
    "\n",
    "# Requête Cypher pour compter le nombre de relations pour chaque super-héros spécifique\n",
    "query = f\"\"\"MATCH (a:Superhero)-[r:RELATION]-(b:Superhero) \n",
    "WHERE a.name IN [{heroes_filter}] AND b.name IN [{heroes_filter}] \n",
    "RETURN a.name AS superhero, count(r) AS num_relations\"\"\"\n",
    "\n",
    "# Exécutez la requête et convertissez les résultats en DataFrame\n",
    "data = graph.run(query).to_data_frame()\n",
    "\n",
    "# Afficher le DataFrame\n",
    "print(data)\n"
   ]
  },
  {
   "cell_type": "code",
   "execution_count": 43,
   "id": "104118c8",
   "metadata": {},
   "outputs": [
    {
     "name": "stdout",
     "output_type": "stream",
     "text": [
      "         superhero  num_relations\n",
      "0        Wolverine            648\n",
      "1       Spider-Man            639\n",
      "2            X-Men            607\n",
      "3         Iron Man            602\n",
      "4  Captain America            566\n",
      "5         Avengers            532\n",
      "6             Thor            508\n",
      "7            Beast            504\n",
      "8          Cyclops            488\n",
      "9             Hulk            471\n"
     ]
    }
   ],
   "source": [
    "query=f\"\"\"MATCH (s:Superhero)-[:RELATION]-(other:Superhero)\n",
    "WITH s, count(*) AS num_relations\n",
    "ORDER BY num_relations DESC\n",
    "LIMIT 10\n",
    "RETURN s.name AS superhero, num_relations\n",
    "\"\"\"\n",
    "# Exécutez la requête et convertissez les résultats en DataFrame\n",
    "data = graph.run(query).to_data_frame()\n",
    "\n",
    "# Afficher le DataFrame\n",
    "print(data)\n"
   ]
  },
  {
   "cell_type": "markdown",
   "id": "7d396236",
   "metadata": {},
   "source": [
    "La plupart des héros qui sont puissants n'étaient tout simplement pas là pour défaire Thanos."
   ]
  },
  {
   "cell_type": "markdown",
   "id": "57b0ee53",
   "metadata": {},
   "source": [
    "5. Create a new db called \"master\". Create a graph from the M1 class with name and random age between 20 and 30, Group of 3 that collab (undirected relation)."
   ]
  },
  {
   "cell_type": "code",
   "execution_count": 8,
   "id": "16e868c9",
   "metadata": {},
   "outputs": [
    {
     "name": "stderr",
     "output_type": "stream",
     "text": [
      "C:\\Users\\carlf\\AppData\\Local\\Temp\\ipykernel_17184\\1188914590.py:37: DeprecationWarning: The transaction.commit() method is deprecated, use graph.commit(transaction) instead\n",
      "  transaction.commit()\n"
     ]
    },
    {
     "name": "stdout",
     "output_type": "stream",
     "text": [
      "True\n"
     ]
    }
   ],
   "source": [
    "import random\n",
    "\n",
    "graph = py2neo.Graph(\"bolt://localhost:7687\", auth=(\"neo4j\", \"password_tuts\"), name=\"master\")\n",
    "graph.delete_all()\n",
    "noms = [\n",
    "    \"Adrien\",\n",
    "    \"Alexis\",\n",
    "    \"Alexandre\",\n",
    "    \"Antoine\",\n",
    "    \"Arthur\",\n",
    "    \"Baptiste\",\n",
    "    \"Benjamin\",\n",
    "    \"Clément\",\n",
    "    \"Corentin\",\n",
    "    \"Damien\",\n",
    "    \"David\",\n",
    "    \"Dylan\",\n",
    "    \"Eliot\",\n",
    "    \"Enzo\",\n",
    "    \"Maëlys\",\n",
    "    \"Manon\",\n",
    "    \"Marine\",\n",
    "    \"Mathilde\",\n",
    "    \"Mélanie\",\n",
    "    \"Naomi\",\n",
    "    \"Natacha\",\n",
    "    \"Nina\",\n",
    "    \"Olivia\",\n",
    "    \"Pauline\"\n",
    "]\n",
    "personnes = [py2neo.Node(\"M1\", name=nom, age=random.randint(20, 30)) for nom in noms]\n",
    "transaction = graph.begin()\n",
    "\n",
    "for personne in personnes:\n",
    "    transaction.create(personne)\n",
    "\n",
    "transaction.commit()\n",
    "print(graph.exists(personne))"
   ]
  },
  {
   "cell_type": "code",
   "execution_count": 10,
   "id": "5b0c80a6",
   "metadata": {
    "scrolled": true
   },
   "outputs": [
    {
     "name": "stdout",
     "output_type": "stream",
     "text": [
      "Relations créées :\n",
      "collab(Node('M1', age=21, name='Manon'), Node('M1', age=26, name='Adrien'))\n",
      "collab(Node('M1', age=26, name='Adrien'), Node('M1', age=23, name='Baptiste'))\n",
      "collab(Node('M1', age=21, name='Alexis'), Node('M1', age=29, name='Clément'))\n",
      "collab(Node('M1', age=25, name='David'), Node('M1', age=21, name='Alexis'))\n",
      "collab(Node('M1', age=22, name='Alexandre'), Node('M1', age=22, name='Maëlys'))\n",
      "collab(Node('M1', age=29, name='Antoine'), Node('M1', age=22, name='Alexandre'))\n",
      "collab(Node('M1', age=29, name='Antoine'), Node('M1', age=22, name='Alexandre'))\n",
      "collab(Node('M1', age=22, name='Maëlys'), Node('M1', age=29, name='Antoine'))\n",
      "collab(Node('M1', age=27, name='Nina'), Node('M1', age=25, name='Arthur'))\n",
      "collab(Node('M1', age=25, name='Arthur'), Node('M1', age=26, name='Eliot'))\n",
      "collab(Node('M1', age=23, name='Baptiste'), Node('M1', age=21, name='Manon'))\n",
      "collab(Node('M1', age=26, name='Adrien'), Node('M1', age=23, name='Baptiste'))\n",
      "collab(Node('M1', age=24, name='Benjamin'), Node('M1', age=25, name='Mélanie'))\n",
      "collab(Node('M1', age=21, name='Mathilde'), Node('M1', age=24, name='Benjamin'))\n",
      "collab(Node('M1', age=21, name='Alexis'), Node('M1', age=29, name='Clément'))\n",
      "collab(Node('M1', age=29, name='Clément'), Node('M1', age=25, name='David'))\n",
      "collab(Node('M1', age=25, name='Corentin'), Node('M1', age=29, name='Pauline'))\n",
      "collab(Node('M1', age=21, name='Dylan'), Node('M1', age=25, name='Corentin'))\n",
      "collab(Node('M1', age=20, name='Damien'), Node('M1', age=27, name='Naomi'))\n",
      "collab(Node('M1', age=23, name='Marine'), Node('M1', age=20, name='Damien'))\n",
      "collab(Node('M1', age=25, name='David'), Node('M1', age=21, name='Alexis'))\n",
      "collab(Node('M1', age=29, name='Clément'), Node('M1', age=25, name='David'))\n",
      "collab(Node('M1', age=21, name='Dylan'), Node('M1', age=25, name='Corentin'))\n",
      "collab(Node('M1', age=29, name='Pauline'), Node('M1', age=21, name='Dylan'))\n",
      "collab(Node('M1', age=26, name='Eliot'), Node('M1', age=27, name='Nina'))\n",
      "collab(Node('M1', age=25, name='Arthur'), Node('M1', age=26, name='Eliot'))\n",
      "collab(Node('M1', age=27, name='Enzo'), Node('M1', age=29, name='Olivia'))\n",
      "collab(Node('M1', age=24, name='Natacha'), Node('M1', age=27, name='Enzo'))\n",
      "collab(Node('M1', age=22, name='Alexandre'), Node('M1', age=22, name='Maëlys'))\n",
      "collab(Node('M1', age=22, name='Maëlys'), Node('M1', age=29, name='Antoine'))\n",
      "collab(Node('M1', age=21, name='Manon'), Node('M1', age=26, name='Adrien'))\n",
      "collab(Node('M1', age=23, name='Baptiste'), Node('M1', age=21, name='Manon'))\n",
      "collab(Node('M1', age=27, name='Naomi'), Node('M1', age=23, name='Marine'))\n",
      "collab(Node('M1', age=23, name='Marine'), Node('M1', age=20, name='Damien'))\n",
      "collab(Node('M1', age=25, name='Mélanie'), Node('M1', age=21, name='Mathilde'))\n",
      "collab(Node('M1', age=21, name='Mathilde'), Node('M1', age=24, name='Benjamin'))\n",
      "collab(Node('M1', age=25, name='Mélanie'), Node('M1', age=21, name='Mathilde'))\n",
      "collab(Node('M1', age=24, name='Benjamin'), Node('M1', age=25, name='Mélanie'))\n",
      "collab(Node('M1', age=27, name='Naomi'), Node('M1', age=23, name='Marine'))\n",
      "collab(Node('M1', age=20, name='Damien'), Node('M1', age=27, name='Naomi'))\n",
      "collab(Node('M1', age=24, name='Natacha'), Node('M1', age=27, name='Enzo'))\n",
      "collab(Node('M1', age=29, name='Olivia'), Node('M1', age=24, name='Natacha'))\n",
      "collab(Node('M1', age=27, name='Nina'), Node('M1', age=25, name='Arthur'))\n",
      "collab(Node('M1', age=26, name='Eliot'), Node('M1', age=27, name='Nina'))\n",
      "collab(Node('M1', age=27, name='Enzo'), Node('M1', age=29, name='Olivia'))\n",
      "collab(Node('M1', age=29, name='Olivia'), Node('M1', age=24, name='Natacha'))\n",
      "collab(Node('M1', age=25, name='Corentin'), Node('M1', age=29, name='Pauline'))\n",
      "collab(Node('M1', age=29, name='Pauline'), Node('M1', age=21, name='Dylan'))\n"
     ]
    }
   ],
   "source": [
    "# Créer des groupes de 3 en supprimant à chaque fois \n",
    "#les élèves dans les groupes formés (afin de ne pas avoir l'élève A dans 2 groupes)\n",
    "groupes = []\n",
    "while len(personnes) >= 3:\n",
    "    groupe = random.sample(personnes, 3)\n",
    "    groupes.append(groupe)\n",
    "    for personne in groupe:\n",
    "        personnes.remove(personne)\n",
    "\n",
    "for groupe in groupes:\n",
    "    for i, j in zip(groupe, groupe[1:] + [groupe[0]]):\n",
    "        relation = py2neo.Relationship(i, \"collab\", j)\n",
    "        graph.create(relation)\n",
    "print(\"Relations créées :\")\n",
    "for record in graph.run(\"MATCH ()-[r:collab]-() RETURN r\"):\n",
    "    print(record)"
   ]
  },
  {
   "cell_type": "markdown",
   "id": "e471251e",
   "metadata": {},
   "source": [
    "6. Get the age for people YOU collaborate with.\n"
   ]
  },
  {
   "cell_type": "code",
   "execution_count": 12,
   "id": "8bad4649",
   "metadata": {},
   "outputs": [
    {
     "name": "stdout",
     "output_type": "stream",
     "text": [
      "J'ai collaboré avec les personnes suivantes, et voici leur âge :\n",
      "Corentin : 25\n",
      "Pauline : 29\n"
     ]
    }
   ],
   "source": [
    "from py2neo import Graph\n",
    "\n",
    "\n",
    "graph = Graph(\"bolt://localhost:7687\", auth=(\"neo4j\", \"password_tuts\"), name=\"master\")\n",
    "\n",
    "\n",
    "query = \"\"\"\n",
    "MATCH (dylan:M1 {name: 'Dylan'})-[:collab]-(personne:M1)\n",
    "RETURN personne.name AS name, personne.age AS age\n",
    "\"\"\"\n",
    "\n",
    "\n",
    "print(\"J'ai collaboré avec les personnes suivantes, et voici leur âge :\")\n",
    "for record in graph.run(query):\n",
    "    print(record[\"name\"], \":\", record[\"age\"])\n"
   ]
  },
  {
   "cell_type": "markdown",
   "id": "59eb8f67",
   "metadata": {},
   "source": [
    "7. Get nodes with age > 25."
   ]
  },
  {
   "cell_type": "code",
   "execution_count": 21,
   "id": "ed1a01ca",
   "metadata": {},
   "outputs": [
    {
     "name": "stdout",
     "output_type": "stream",
     "text": [
      "Personne(s) avec un âge supérieur à 25 :\n",
      "Adrien : 26\n",
      "Antoine : 29\n",
      "Arthur : 25\n",
      "Clément : 29\n",
      "Corentin : 25\n",
      "David : 25\n",
      "Eliot : 26\n",
      "Enzo : 27\n",
      "Mélanie : 25\n",
      "Naomi : 27\n",
      "Nina : 27\n",
      "Olivia : 29\n",
      "Pauline : 29\n",
      "\n",
      "Ils sont 13 au total !\n"
     ]
    }
   ],
   "source": [
    "graph = Graph(\"bolt://localhost:7687\", auth=(\"neo4j\", \"password_tuts\"), name=\"master\")\n",
    "\n",
    "\n",
    "query = \"\"\"\n",
    "MATCH (personne:M1)\n",
    "WHERE personne.age >= 25\n",
    "RETURN personne.name AS name, personne.age AS age\n",
    "\"\"\"\n",
    "\n",
    "# Exécution de la requête et impression des résultats\n",
    "print(\"Personne(s) avec un âge supérieur à 25 :\")\n",
    "i = 0 \n",
    "for record in graph.run(query):\n",
    "    print(record[\"name\"], \":\", record[\"age\"])\n",
    "    i += 1\n",
    "print(f\"\\nIls sont {i} au total !\")\n"
   ]
  },
  {
   "cell_type": "markdown",
   "id": "dee1a3e9",
   "metadata": {},
   "source": [
    "Real world problem:\n",
    "\n",
    "\n",
    "9: Get the density of degrees of the collaboration network\n",
    "\n",
    "10: Do a for loop for i in range(500) for each i remove nodes with a degree less than i."
   ]
  },
  {
   "cell_type": "markdown",
   "id": "04e6d569",
   "metadata": {},
   "source": [
    "8. Using the downloaded data in TODO 11 of chapter II, create a collaboration network between authors for papers after 2021 (same author if same name). Insert it in neo4j in a db called \"arxiv\"."
   ]
  },
  {
   "cell_type": "code",
   "execution_count": null,
   "id": "615e70e2",
   "metadata": {},
   "outputs": [],
   "source": [
    "graph = Graph(\"bolt://localhost:7687\", auth=(\"neo4j\", \"password_tuts\"), name=\"arxiv\")"
   ]
  },
  {
   "cell_type": "code",
   "execution_count": 29,
   "id": "b6539e45",
   "metadata": {},
   "outputs": [
    {
     "name": "stdout",
     "output_type": "stream",
     "text": [
      "Collaboration network created and inserted into Neo4j.\n"
     ]
    },
    {
     "name": "stderr",
     "output_type": "stream",
     "text": [
      "C:\\Users\\carlf\\AppData\\Local\\Temp\\ipykernel_17184\\27898242.py:46: DeprecationWarning: The transaction.commit() method is deprecated, use graph.commit(transaction) instead\n",
      "  tx.commit()\n"
     ]
    }
   ],
   "source": [
    "import json\n",
    "from py2neo import Graph, Node, Relationship\n",
    "\n",
    "# Chemin vers le fichier JSON\n",
    "json_file_path = \"C:\\\\Users\\\\carlf\\\\OneDrive\\\\Bureau\\\\NoSQL_SQL\\\\data_world.json\"\n",
    "\n",
    "# Connexion à la base de données Neo4j\n",
    "graph = Graph(\"bolt://localhost:7687\", auth=(\"neo4j\", \"password_tuts\"), name=\"arxiv\")\n",
    "\n",
    "# Charger les données JSON depuis le fichier\n",
    "with open(json_file_path, \"r\") as file:\n",
    "    data = json.load(file)\n",
    "\n",
    "# Démarrer une transaction\n",
    "tx = graph.begin()\n",
    "\n",
    "# Parcourir les données pour créer le réseau de collaboration\n",
    "for entry in data:\n",
    "    # Vérifier si l'article a une année de publication\n",
    "    if \"year\" in entry and entry[\"year\"] > 2021:\n",
    "        print(f\"Processing entry: {entry['title']}\")\n",
    "\n",
    "        # Récupérer les auteurs de l'article s'ils existent\n",
    "        if \"authors\" in entry:\n",
    "            authors = entry[\"authors\"]\n",
    "            print(f\"Authors: {authors}\")\n",
    "\n",
    "            # Créer des nœuds pour chaque auteur s'ils n'existent pas déjà\n",
    "            author_nodes = {}\n",
    "            for author in authors:\n",
    "                if author not in author_nodes:\n",
    "                    author_nodes[author] = Node(\"Author\", name=author)\n",
    "                    tx.merge(author_nodes[author], \"Author\", \"name\")\n",
    "                    print(f\"Node created for author: {author}\")\n",
    "\n",
    "            # Créer des relations de collaboration entre les auteurs\n",
    "            for i, author1 in enumerate(authors):\n",
    "                for j, author2 in enumerate(authors):\n",
    "                    if i != j:\n",
    "                        # Créer une relation de collaboration si elle n'existe pas déjà\n",
    "                        if not graph.exists(Relationship(author_nodes[author1], \"COLLAB\", author_nodes[author2])):\n",
    "                            tx.create(Relationship(author_nodes[author1], \"COLLAB\", author_nodes[author2]))\n",
    "                            print(f\"Collaboration relationship created between {author1} and {author2}\")\n",
    "\n",
    "# Valider la transaction (commit)\n",
    "tx.commit()\n",
    "\n",
    "print(\"Collaboration network created and inserted into Neo4j.\")\n"
   ]
  },
  {
   "cell_type": "markdown",
   "id": "77f1218f",
   "metadata": {},
   "source": [
    "Real World application 3\n",
    "You will work again on pubmed_last_100k.json. The goal in this homework is to insert collaboration data in Neo4j and then study it using cypher queries. The following questions are meant to guide you through the process.\n",
    "\n",
    "1. Each paper has a list of author and affiliations. The first step is to create a node per author with a list of affiliation as attribute. If a name appears multiple times consider it as a single person. Create an edge between two authors if they are on the same paper. You can use any kind of operation to clean the data before inserting, you decide which preprocessing step is the most convenient.\n",
    "\n",
    "2. How many authors have more than 2 affiliations ?\n",
    "\n",
    "3. Create a density of node degrees. Do you observe a power scale law ? What does it mean ?\n",
    "\n",
    "4. Which country has seen the most international collaboration ?\n",
    "\n",
    "5. Who are the top 10 collaborators and what is their affiliation ?\n",
    "\n",
    "6. Sandbox exercise: think of a problematic and try to answer it."
   ]
  },
  {
   "cell_type": "code",
   "execution_count": null,
   "id": "49bba416",
   "metadata": {},
   "outputs": [],
   "source": []
  }
 ],
 "metadata": {
  "kernelspec": {
   "display_name": "Python 3 (ipykernel)",
   "language": "python",
   "name": "python3"
  },
  "language_info": {
   "codemirror_mode": {
    "name": "ipython",
    "version": 3
   },
   "file_extension": ".py",
   "mimetype": "text/x-python",
   "name": "python",
   "nbconvert_exporter": "python",
   "pygments_lexer": "ipython3",
   "version": "3.11.5"
  }
 },
 "nbformat": 4,
 "nbformat_minor": 5
}
