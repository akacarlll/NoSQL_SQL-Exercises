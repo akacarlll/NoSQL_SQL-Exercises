{
 "cells": [
  {
   "cell_type": "code",
   "execution_count": 3,
   "id": "79a0a81c",
   "metadata": {},
   "outputs": [],
   "source": [
    "import pandas as pd\n",
    "import mysql.connector"
   ]
  },
  {
   "cell_type": "code",
   "execution_count": 5,
   "id": "0b5acdec",
   "metadata": {},
   "outputs": [],
   "source": [
    "mydb = mysql.connector.connect(\n",
    "  host=\"localhost\",\n",
    "  user=\"root\",\n",
    "  password=\"Azerty2024/\",\n",
    "  database=\"m1_ds2e\"\n",
    ")\n",
    "\n",
    "c = mydb.cursor()\n",
    "\n",
    "c.execute(\"SELECT * FROM sample_superstore\")\n",
    "\n",
    "docs = c.fetchall()\n",
    "\n",
    "columns = [description[0] for description in c.description]\n",
    "df = pd.DataFrame(docs, columns=columns)"
   ]
  },
  {
   "cell_type": "code",
   "execution_count": 8,
   "id": "84219127",
   "metadata": {},
   "outputs": [
    {
     "name": "stdout",
     "output_type": "stream",
     "text": [
      "Il y a eu 175 commandes au total\n"
     ]
    }
   ],
   "source": [
    "# 1: How many orders were placed in total?\n",
    "print(f\"Il y a eu {df.shape[0]} commandes au total\")"
   ]
  },
  {
   "cell_type": "code",
   "execution_count": 47,
   "id": "06e82dea",
   "metadata": {},
   "outputs": [
    {
     "name": "stdout",
     "output_type": "stream",
     "text": [
      "Index(['Row ID', 'Order Priority', 'Discount', 'Unit Price', 'Shipping Cost',\n",
      "       'Customer ID', 'Customer Name', 'Ship Mode', 'Customer Segment',\n",
      "       'Product Category', 'Product Sub-Category', 'Product Container',\n",
      "       'Product Name', 'Product Base Margin', 'Region', 'State or Province',\n",
      "       'City', 'Postal Code', 'Order Date', 'Ship Date', 'Profit',\n",
      "       'Quantity ordered new', 'Sales', 'Order ID'],\n",
      "      dtype='object')\n"
     ]
    }
   ],
   "source": [
    "print(df.columns)"
   ]
  },
  {
   "cell_type": "code",
   "execution_count": 10,
   "id": "05857077",
   "metadata": {},
   "outputs": [
    {
     "name": "stdout",
     "output_type": "stream",
     "text": [
      "Total des ventes: 130555.31000000006\n"
     ]
    }
   ],
   "source": [
    "# 2: What is the total sales amount?\n",
    "c.execute(\"SELECT SUM(Sales) AS TotalSales FROM sample_superstore\")\n",
    "total_sales = c.fetchone()[0]\n",
    "print(\"Total des ventes:\", total_sales)"
   ]
  },
  {
   "cell_type": "code",
   "execution_count": 12,
   "id": "65f41a7b",
   "metadata": {},
   "outputs": [
    {
     "name": "stdout",
     "output_type": "stream",
     "text": [
      "Profit Moyen: 136.04226416285724\n"
     ]
    }
   ],
   "source": [
    "#3: What is the average profit per order?\n",
    "c.execute(\"SELECT AVG(Profit) AS MoySales FROM sample_superstore\")\n",
    "moy_sales = c.fetchone()[0]\n",
    "print(\"Profit Moyen:\", moy_sales)"
   ]
  },
  {
   "cell_type": "code",
   "execution_count": 18,
   "id": "e87b97a2",
   "metadata": {},
   "outputs": [
    {
     "name": "stdout",
     "output_type": "stream",
     "text": [
      "Le client avec l'ID 21 a passé le plus de commandes, avec un total de 12 commandes.\n"
     ]
    }
   ],
   "source": [
    "#4: Which customer has placed the most orders?\n",
    "c.execute(\"\"\"\n",
    "    SELECT `Customer ID`, COUNT(*) AS OrderCount\n",
    "    FROM sample_superstore\n",
    "    GROUP BY `Customer ID`\n",
    "    ORDER BY OrderCount DESC\n",
    "    LIMIT 1\n",
    "\"\"\")\n",
    "customer_with_most_orders = c.fetchone()\n",
    "if customer_with_most_orders:\n",
    "    customer_id, order_count = customer_with_most_orders\n",
    "    print(f\"Le client avec l'ID {customer_id} a passé le plus de commandes, avec un total de {order_count} commandes.\")\n"
   ]
  },
  {
   "cell_type": "code",
   "execution_count": 20,
   "id": "55f59905",
   "metadata": {},
   "outputs": [
    {
     "name": "stdout",
     "output_type": "stream",
     "text": [
      "Catégorie de produit: Office Supplies, Profit total: 11605.983540000001\n",
      "Catégorie de produit: Technology, Profit total: 10225.340091999999\n",
      "Catégorie de produit: Furniture, Profit total: 1976.0725965000036\n"
     ]
    }
   ],
   "source": [
    "#5: What is the total profit for each product category?\n",
    "\n",
    "c.execute(\"\"\"\n",
    "    SELECT `Product Category`, SUM(Profit) AS TotalProfit\n",
    "    FROM sample_superstore\n",
    "    GROUP BY `Product Category`\n",
    "\"\"\")\n",
    "total_profit_by_category = c.fetchall()\n",
    "\n",
    "for category, total_profit in total_profit_by_category:\n",
    "    print(f\"Catégorie de produit: {category}, Profit total: {total_profit}\")\n"
   ]
  },
  {
   "cell_type": "code",
   "execution_count": 28,
   "id": "b3bb542e",
   "metadata": {},
   "outputs": [
    {
     "name": "stdout",
     "output_type": "stream",
     "text": [
      "Pourcentage moyen de remise: 0.0975737182075381\n"
     ]
    }
   ],
   "source": [
    "# 6: What is the average discount percentage?\n",
    "c.execute(\"\"\"\n",
    "    SELECT AVG(Discount / Sales) * 100 AS AvgDiscountPct\n",
    "    From sample_superstore\n",
    "\"\"\")\n",
    "\n",
    "average_discount_percentage = c.fetchone()[0]\n",
    "print(\"Pourcentage moyen de remise:\", average_discount_percentage)"
   ]
  },
  {
   "cell_type": "code",
   "execution_count": 29,
   "id": "6ce96670",
   "metadata": {},
   "outputs": [
    {
     "name": "stdout",
     "output_type": "stream",
     "text": [
      "Région: West, Ventes totales: 75678.49999999999\n",
      "Région: East, Ventes totales: 38033.84999999999\n",
      "Région: Central, Ventes totales: 14261.619999999999\n",
      "Région: South, Ventes totales: 2581.34\n"
     ]
    }
   ],
   "source": [
    "#7: Which region has the highest total sales?\n",
    "\n",
    "c.execute(\"\"\"\n",
    "    SELECT Region, SUM(Sales) AS TotSales\n",
    "    From sample_superstore\n",
    "    GROUP BY Region\n",
    "    ORDER BY TotSales DESC\n",
    "\"\"\")\n",
    "\n",
    "sales_by_region = c.fetchall()\n",
    "\n",
    "for region, total_sales in sales_by_region:\n",
    "    print(f\"Région: {region}, Ventes totales: {total_sales}\")"
   ]
  },
  {
   "cell_type": "code",
   "execution_count": 33,
   "id": "516e0e79",
   "metadata": {},
   "outputs": [
    {
     "name": "stdout",
     "output_type": "stream",
     "text": [
      "Mode de livraison : Regular Air, Nombre de commandes : 131\n",
      "Mode de livraison : Express Air, Nombre de commandes : 23\n",
      "Mode de livraison : Delivery Truck, Nombre de commandes : 21\n"
     ]
    }
   ],
   "source": [
    "#8: How many orders were shipped using each shipping mode?\n",
    "c.execute(\"\"\"\n",
    "    SELECT `Ship Mode`, COUNT(*) AS OrdersCount\n",
    "    FROM sample_superstore\n",
    "    GROUP BY `Ship Mode`\n",
    "\"\"\")\n",
    "orders_by_shipping_mode = c.fetchall()\n",
    "\n",
    "for shipping_mode, orders_count in orders_by_shipping_mode:\n",
    "    print(f\"Mode de livraison : {shipping_mode}, Nombre de commandes : {orders_count}\")"
   ]
  },
  {
   "cell_type": "code",
   "execution_count": 36,
   "id": "f9e05abb",
   "metadata": {},
   "outputs": [
    {
     "name": "stdout",
     "output_type": "stream",
     "text": [
      "Sous-catégorie de produit : Labels, Quantité totale commandée : 171\n",
      "Sous-catégorie de produit : Pens & Art Supplies, Quantité totale commandée : 196\n",
      "Sous-catégorie de produit : Paper, Quantité totale commandée : 286\n",
      "Sous-catégorie de produit : Scissors, Rulers and Trimmers, Quantité totale commandée : 24\n",
      "Sous-catégorie de produit : Telephones and Communication, Quantité totale commandée : 252\n",
      "Sous-catégorie de produit : Office Machines, Quantité totale commandée : 123\n",
      "Sous-catégorie de produit : Chairs & Chairmats, Quantité totale commandée : 166\n",
      "Sous-catégorie de produit : Appliances, Quantité totale commandée : 184\n",
      "Sous-catégorie de produit : Bookcases, Quantité totale commandée : 39\n",
      "Sous-catégorie de produit : Tables, Quantité totale commandée : 50\n",
      "Sous-catégorie de produit : Envelopes, Quantité totale commandée : 46\n",
      "Sous-catégorie de produit : Office Furnishings, Quantité totale commandée : 233\n",
      "Sous-catégorie de produit : Rubber Bands, Quantité totale commandée : 119\n",
      "Sous-catégorie de produit : Binders and Binder Accessories, Quantité totale commandée : 129\n",
      "Sous-catégorie de produit : Storage & Organization, Quantité totale commandée : 121\n",
      "Sous-catégorie de produit : Copiers and Fax, Quantité totale commandée : 5\n",
      "Sous-catégorie de produit : Computer Peripherals, Quantité totale commandée : 69\n"
     ]
    }
   ],
   "source": [
    "#9: What is the total quantity ordered for each product sub-category?\n",
    "c.execute(\"\"\"\n",
    "    SELECT `Product Sub-Category`, SUM(`Quantity ordered new`) AS TotalQuantity\n",
    "    FROM sample_superstore\n",
    "    GROUP BY `Product Sub-Category`\n",
    "\"\"\")\n",
    "quantity_by_subcategory = c.fetchall()\n",
    "\n",
    "for x, total_quantity in quantity_by_subcategory:\n",
    "    print(f\"Sous-catégorie de produit : {x}, Quantité totale commandée : {total_quantity}\")\n"
   ]
  },
  {
   "cell_type": "code",
   "execution_count": 51,
   "id": "c9414a4a",
   "metadata": {},
   "outputs": [
    {
     "name": "stdout",
     "output_type": "stream",
     "text": [
      "Le produit avec la marge bénéficiaire la plus élevée est 'Accessory29' avec une marge de 0.83.\n"
     ]
    }
   ],
   "source": [
    "#10: Which product has the highest profit margin?\n",
    "c.execute(\"\"\"\n",
    "    SELECT `Product Name`, `Product Base Margin`\n",
    "    FROM sample_superstore\n",
    "    ORDER BY `Product Base Margin` DESC\n",
    "    LIMIT 1\n",
    "\"\"\")\n",
    "product_with_highest_margin = c.fetchone()\n",
    "\n",
    "if product_with_highest_margin:\n",
    "    product_name = product_with_highest_margin[0]\n",
    "    margin = product_with_highest_margin[1]\n",
    "    print(f\"Le produit avec la marge bénéficiaire la plus élevée est '{product_name}' avec une marge de {margin:.2f}.\")\n",
    "else:\n",
    "    print(\"Aucun produit trouvé.\")\n"
   ]
  },
  {
   "cell_type": "code",
   "execution_count": 56,
   "id": "aaed8548",
   "metadata": {},
   "outputs": [
    {
     "name": "stdout",
     "output_type": "stream",
     "text": [
      "Year: 2010 - Total Sales: 25377.779999999995\n",
      "Year: 2011 - Total Sales: 12048.119999999997\n",
      "Year: 2012 - Total Sales: 44893.209999999985\n",
      "Year: 2013 - Total Sales: 48236.200000000004\n"
     ]
    }
   ],
   "source": [
    "#11: What is the total sales amount for each year?\n",
    "\n",
    "c.execute(\"\"\"\n",
    "    SELECT YEAR(STR_TO_DATE(`Order Date`, '%m/%d/%Y')) AS Year, SUM(Sales) AS Total_Sales\n",
    "    FROM sample_superstore\n",
    "    GROUP BY YEAR(STR_TO_DATE(`Order Date`, '%m/%d/%Y'))\n",
    "    ORDER BY YEAR(STR_TO_DATE(`Order Date`, '%m/%d/%Y'))\n",
    "\"\"\")\n",
    "\n",
    "sales_by_year = c.fetchall()\n",
    "\n",
    "for year, total_sales in sales_by_year:\n",
    "    print(\"Year:\", year, \"- Total Sales:\", total_sales)\n"
   ]
  },
  {
   "cell_type": "code",
   "execution_count": 48,
   "id": "30082aa0",
   "metadata": {},
   "outputs": [
    {
     "name": "stdout",
     "output_type": "stream",
     "text": [
      "Le segment de client avec le chiffre d'affaires moyen le plus élevé est 'Small Business' avec une moyenne de ventes de 1041.56.\n"
     ]
    }
   ],
   "source": [
    "c.execute(\"\"\"\n",
    "    SELECT `Customer Segment`, AVG(Sales) AS AvgSales\n",
    "    FROM sample_superstore\n",
    "    GROUP BY `Customer Segment`\n",
    "    ORDER BY AvgSales DESC\n",
    "    LIMIT 1\n",
    "\"\"\")\n",
    "segment_with_highest_avg_sales = c.fetchone()\n",
    "\n",
    "if segment_with_highest_avg_sales:\n",
    "    segment = segment_with_highest_avg_sales[0]\n",
    "    avg_sales = segment_with_highest_avg_sales[1]\n",
    "    print(f\"Le segment de client avec le chiffre d'affaires moyen le plus élevé est '{segment}' avec une moyenne de ventes de {avg_sales:.2f}.\")\n",
    "else:\n",
    "    print(\"Aucun segment trouvé.\")\n"
   ]
  },
  {
   "cell_type": "code",
   "execution_count": null,
   "id": "f3a357da",
   "metadata": {},
   "outputs": [],
   "source": []
  }
 ],
 "metadata": {
  "kernelspec": {
   "display_name": "Python 3 (ipykernel)",
   "language": "python",
   "name": "python3"
  },
  "language_info": {
   "codemirror_mode": {
    "name": "ipython",
    "version": 3
   },
   "file_extension": ".py",
   "mimetype": "text/x-python",
   "name": "python",
   "nbconvert_exporter": "python",
   "pygments_lexer": "ipython3",
   "version": "3.11.5"
  }
 },
 "nbformat": 4,
 "nbformat_minor": 5
}
