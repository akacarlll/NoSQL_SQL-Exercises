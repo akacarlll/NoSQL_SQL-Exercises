{
 "cells": [
  {
   "cell_type": "code",
   "execution_count": 2,
   "id": "050276e4",
   "metadata": {},
   "outputs": [
    {
     "name": "stdout",
     "output_type": "stream",
     "text": [
      "Requirement already satisfied: psycopg2 in c:\\users\\carlf\\anaconda3\\lib\\site-packages (2.9.9)\n"
     ]
    }
   ],
   "source": [
    "!pip install psycopg2"
   ]
  },
  {
   "cell_type": "code",
   "execution_count": 3,
   "id": "8421ba1e",
   "metadata": {},
   "outputs": [],
   "source": [
    "import pandas as pd\n",
    "\n",
    "df = pd.read_csv(\"C:/Users/carlf/OneDrive/Bureau/NoSQL_SQL/bank_full.csv\")"
   ]
  },
  {
   "cell_type": "code",
   "execution_count": 4,
   "id": "ea025264",
   "metadata": {},
   "outputs": [
    {
     "data": {
      "text/plain": [
       "Index(['age', 'job', 'marital', 'education', 'default_', 'balance', 'housing',\n",
       "       'loan', 'contact', 'day', 'month', 'duration', 'campaign', 'pdays',\n",
       "       'previous', 'poutcome', 'y'],\n",
       "      dtype='object')"
      ]
     },
     "execution_count": 4,
     "metadata": {},
     "output_type": "execute_result"
    }
   ],
   "source": [
    "df.columns"
   ]
  },
  {
   "cell_type": "code",
   "execution_count": 5,
   "id": "6e0912e1",
   "metadata": {},
   "outputs": [],
   "source": [
    "import psycopg2\n",
    "# Connect to PostgreSQL database\n",
    "conn = psycopg2.connect(dbname=\"new_db\", user=\"postgres\", password=\"#Skylanders6/\", host=\"localhost\",  port=\"5432\")"
   ]
  },
  {
   "cell_type": "code",
   "execution_count": 6,
   "id": "2cdc1b25",
   "metadata": {},
   "outputs": [],
   "source": [
    "# Create a cursor object\n",
    "cur = conn.cursor()\n",
    "\n",
    "# Define the table schema\n",
    "table_name = \"bank_full\"\n",
    "columns = [\n",
    "    \"age INTEGER\",\n",
    "    \"job VARCHAR(100)\",\n",
    "    \"marital VARCHAR(20)\",\n",
    "    \"education VARCHAR(100)\",\n",
    "    \"default_ VARCHAR(10)\",\n",
    "    \"balance NUMERIC\",\n",
    "    \"housing VARCHAR(10)\",\n",
    "    \"loan VARCHAR(10)\",\n",
    "    \"contact VARCHAR(100)\",\n",
    "    \"day INTEGER\",\n",
    "    \"month VARCHAR(20)\",\n",
    "    \"duration INTEGER\",\n",
    "    \"campaign INTEGER\",\n",
    "    \"pdays INTEGER\",\n",
    "    \"previous INTEGER\",\n",
    "    \"poutcome VARCHAR(100)\",\n",
    "    \"y VARCHAR(10)\"\n",
    "]\n",
    "\n",
    "# Construct the CREATE TABLE query\n",
    "create_table_query = (\n",
    "    \"CREATE TABLE IF NOT EXISTS \" + table_name + \" (\" +\n",
    "    \", \".join(columns) +\n",
    "    \")\"\n",
    ")\n",
    "\n",
    "# Execute the CREATE TABLE query\n",
    "cur.execute(create_table_query)\n",
    "\n",
    "# Commit the transaction\n",
    "conn.commit()\n",
    "\n",
    "# Close cursor and connection\n",
    "cur.close()\n",
    "conn.close()"
   ]
  },
  {
   "cell_type": "code",
   "execution_count": 7,
   "id": "f780f695",
   "metadata": {},
   "outputs": [
    {
     "name": "stdout",
     "output_type": "stream",
     "text": [
      "Average age of the customers: 40.9362102143283714\n"
     ]
    }
   ],
   "source": [
    "# 1: What is the average age of the customers?\n",
    "import psycopg2\n",
    "\n",
    "# Connect to PostgreSQL database\n",
    "conn = psycopg2.connect(dbname=\"new_db\", user=\"postgres\", password=\"#Skylanders6/\", host=\"localhost\", port=\"5432\")\n",
    "\n",
    "# Create a cursor object\n",
    "cur = conn.cursor()\n",
    "\n",
    "# Execute the query to calculate the average age\n",
    "cur.execute(\"SELECT AVG(age) FROM bank_full\")\n",
    "\n",
    "# Fetch the result\n",
    "average_age = cur.fetchone()[0]\n",
    "\n",
    "print(\"Average age of the customers:\", average_age)\n",
    "\n",
    "# Close cursor and connection\n",
    "cur.close()\n",
    "conn.close()"
   ]
  },
  {
   "cell_type": "code",
   "execution_count": 10,
   "id": "fa9fbaf0",
   "metadata": {},
   "outputs": [
    {
     "name": "stdout",
     "output_type": "stream",
     "text": [
      "Le nombre de client à avoir un défaut de paiement est de : 815\n"
     ]
    }
   ],
   "source": [
    "#2: How many customers have defaulted on loans?\n",
    "conn = psycopg2.connect(dbname=\"new_db\", user=\"postgres\", password=\"#Skylanders6/\", host=\"localhost\", port=\"5432\")\n",
    "c = conn.cursor()\n",
    "\n",
    "c.execute(\"\"\"SELECT COUNT(*)\n",
    "    FROM bank_full\n",
    "    WHERE default_ = 'yes';\n",
    "\"\"\")\n",
    "          \n",
    "default_loans = c.fetchone()[0]    \n",
    "print(f\"Le nombre de client à avoir un défaut de paiement est de : {default_loans}\")"
   ]
  },
  {
   "cell_type": "code",
   "execution_count": 12,
   "id": "ed5fed9c",
   "metadata": {},
   "outputs": [
    {
     "name": "stdout",
     "output_type": "stream",
     "text": [
      "Solde maximum dans le compte : 102127\n"
     ]
    }
   ],
   "source": [
    "# 3: What is the maximum balance in the account?\n",
    "c.execute(\"SELECT MAX(balance) FROM bank_full\")\n",
    "\n",
    "max_balance = c.fetchone()[0]\n",
    "\n",
    "print(\"Solde maximum dans le compte :\", max_balance)"
   ]
  },
  {
   "cell_type": "code",
   "execution_count": 14,
   "id": "31c61ab1",
   "metadata": {},
   "outputs": [
    {
     "name": "stdout",
     "output_type": "stream",
     "text": [
      "Nombre de clients avec un prêt immobilier : 25130\n"
     ]
    }
   ],
   "source": [
    "# 4: How many customers have a housing loan?\n",
    "c.execute(\"SELECT COUNT(*) FROM bank_full WHERE housing = 'yes'\")\n",
    "\n",
    "num_customers_with_housing_loan = c.fetchone()[0]\n",
    "\n",
    "print(\"Nombre de clients avec un prêt immobilier :\", num_customers_with_housing_loan)"
   ]
  },
  {
   "cell_type": "code",
   "execution_count": 15,
   "id": "f642b5b6",
   "metadata": {},
   "outputs": [
    {
     "name": "stdout",
     "output_type": "stream",
     "text": [
      "Niveau d'éducation du client le plus jeune : primary\n"
     ]
    }
   ],
   "source": [
    "# 5: What is the education level of the youngest customer?\n",
    "c.execute(\"SELECT education FROM bank_full ORDER BY age LIMIT 1\")\n",
    "\n",
    "education_youngest_customer = c.fetchone()[0]\n",
    "\n",
    "print(\"Niveau d'éducation du client le plus jeune :\", education_youngest_customer)"
   ]
  },
  {
   "cell_type": "code",
   "execution_count": 16,
   "id": "882c0596",
   "metadata": {},
   "outputs": [
    {
     "name": "stdout",
     "output_type": "stream",
     "text": [
      "Statut matrimonial du client le plus âgé : divorced\n"
     ]
    }
   ],
   "source": [
    "# 6: What is the marital status of the oldest customer?\n",
    "c.execute(\"SELECT marital FROM bank_full ORDER BY age DESC LIMIT 1\")\n",
    "\n",
    "marital_status_oldest_customer = c.fetchone()[0]\n",
    "\n",
    "print(\"Statut matrimonial du client le plus âgé :\", marital_status_oldest_customer)"
   ]
  },
  {
   "cell_type": "code",
   "execution_count": 17,
   "id": "848c08c8",
   "metadata": {},
   "outputs": [
    {
     "name": "stdout",
     "output_type": "stream",
     "text": [
      "Distribution des mois de dernier contact des clients :\n",
      "apr : 2932\n",
      "aug : 6247\n",
      "dec : 214\n",
      "feb : 2649\n",
      "jan : 1403\n",
      "jul : 6895\n",
      "jun : 5341\n",
      "mar : 477\n",
      "may : 13766\n",
      "nov : 3970\n",
      "oct : 738\n",
      "sep : 579\n"
     ]
    }
   ],
   "source": [
    "# 7: What is the distribution of the months in which customers were last contacted?\n",
    "c.execute(\"SELECT month, COUNT(*) FROM bank_full GROUP BY month ORDER BY month\")\n",
    "\n",
    "month_distribution = c.fetchall()\n",
    "\n",
    "print(\"Distribution des mois de dernier contact des clients :\")\n",
    "for month, count in month_distribution:\n",
    "    print(month, \":\", count)"
   ]
  },
  {
   "cell_type": "code",
   "execution_count": 18,
   "id": "2a3f0e75",
   "metadata": {},
   "outputs": [
    {
     "name": "stdout",
     "output_type": "stream",
     "text": [
      "Durée moyenne de contact pour les clients avec un prêt personnel : 250.85\n"
     ]
    }
   ],
   "source": [
    "# 8: What is the average duration of contact for customers who have a personal loan?\n",
    "c.execute(\"SELECT ROUND(AVG(duration), 2) FROM bank_full WHERE loan = 'yes'\")\n",
    "\n",
    "average_duration = c.fetchone()[0]\n",
    "\n",
    "print(\"Durée moyenne de contact pour les clients avec un prêt personnel :\", average_duration)"
   ]
  },
  {
   "cell_type": "code",
   "execution_count": 21,
   "id": "8a70fb3d",
   "metadata": {},
   "outputs": [
    {
     "name": "stdout",
     "output_type": "stream",
     "text": [
      "Nombre de clients précédemment contactés : 8257\n",
      "Durée moyenne du dernier contact des clients précédemment contactés : 260.12\n"
     ]
    }
   ],
   "source": [
    "# 9: How many customers were previously contacted, and what was the average duration of their last contact?\n",
    "c.execute(\"SELECT COUNT(*) FROM bank_full WHERE pdays != -1\")\n",
    "num_customers_contacted = c.fetchone()[0]\n",
    "\n",
    "c.execute(\"SELECT ROUND(AVG(duration), 2) FROM bank_full WHERE pdays != -1\")\n",
    "average_duration_last_contact = c.fetchone()[0]\n",
    "\n",
    "print(\"Nombre de clients précédemment contactés :\", num_customers_contacted)\n",
    "print(\"Durée moyenne du dernier contact des clients précédemment contactés :\", average_duration_last_contact)"
   ]
  },
  {
   "cell_type": "code",
   "execution_count": 22,
   "id": "c821ef1b",
   "metadata": {},
   "outputs": [
    {
     "name": "stdout",
     "output_type": "stream",
     "text": [
      "Distribution des types d'emploi parmi les clients :\n",
      "blue-collar : 9732\n",
      "management : 9458\n",
      "technician : 7597\n",
      "admin. : 5171\n",
      "services : 4154\n",
      "retired : 2264\n",
      "self-employed : 1579\n",
      "entrepreneur : 1487\n",
      "unemployed : 1303\n",
      "housemaid : 1240\n",
      "student : 938\n",
      "unknown : 288\n"
     ]
    }
   ],
   "source": [
    "# 10: What is the distribution of job types among customers?\n",
    "c.execute(\"SELECT job, COUNT(*) FROM bank_full GROUP BY job ORDER BY COUNT(*) DESC\")\n",
    "\n",
    "job_distribution = c.fetchall()\n",
    "\n",
    "print(\"Distribution des types d'emploi parmi les clients :\")\n",
    "for row in job_distribution:\n",
    "    print(row[0], \":\", row[1])"
   ]
  },
  {
   "cell_type": "code",
   "execution_count": 26,
   "id": "12ff7f03",
   "metadata": {},
   "outputs": [
    {
     "name": "stdout",
     "output_type": "stream",
     "text": [
      "Nombre de clients contactés plus d'une fois au cours de la campagne : 2639\n"
     ]
    }
   ],
   "source": [
    "# 11: How many customers have been contacted more than once in the current campaign?\n",
    " \n",
    "c.execute(\"\"\"\n",
    "        SELECT COUNT(*) FROM (\n",
    "            SELECT age, job, marital, education, COUNT(*) \n",
    "            FROM bank_full \n",
    "            GROUP BY age, job, marital, education \n",
    "            HAVING COUNT(*) > 1\n",
    "        ) AS subquery\n",
    "    \"\"\")\n",
    "\n",
    "num_customers_contacted_multiple_times = c.fetchone()[0]\n",
    "\n",
    "print(\"Nombre de clients contactés plus d'une fois au cours de la campagne :\", num_customers_contacted_multiple_times)\n"
   ]
  },
  {
   "cell_type": "code",
   "execution_count": 28,
   "id": "3a89208a",
   "metadata": {},
   "outputs": [
    {
     "name": "stdout",
     "output_type": "stream",
     "text": [
      "Taux de réussite des campagnes marketing précédentes parmi les clients : 3.34210700935613 %\n"
     ]
    }
   ],
   "source": [
    "# 12: What is the success rate of previous marketing campaigns (poutcome) among customers\n",
    "c.execute(\"SELECT COUNT(*) FROM bank_full\")\n",
    "total_customers = c.fetchone()[0]\n",
    "\n",
    "c.execute(\"SELECT COUNT(*) FROM bank_full WHERE poutcome = 'success'\")\n",
    "successful_customers = c.fetchone()[0]\n",
    "\n",
    "success_rate = (successful_customers / total_customers) * 100\n",
    "\n",
    "print(\"Taux de réussite des campagnes marketing précédentes parmi les clients :\", success_rate, \"%\")"
   ]
  },
  {
   "cell_type": "code",
   "execution_count": null,
   "id": "2ce0b0c1",
   "metadata": {},
   "outputs": [],
   "source": []
  },
  {
   "cell_type": "code",
   "execution_count": null,
   "id": "557025f7",
   "metadata": {},
   "outputs": [],
   "source": []
  }
 ],
 "metadata": {
  "kernelspec": {
   "display_name": "Python 3 (ipykernel)",
   "language": "python",
   "name": "python3"
  },
  "language_info": {
   "codemirror_mode": {
    "name": "ipython",
    "version": 3
   },
   "file_extension": ".py",
   "mimetype": "text/x-python",
   "name": "python",
   "nbconvert_exporter": "python",
   "pygments_lexer": "ipython3",
   "version": "3.11.5"
  }
 },
 "nbformat": 4,
 "nbformat_minor": 5
}
